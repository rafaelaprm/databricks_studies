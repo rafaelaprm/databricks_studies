{
 "cells": [
  {
   "cell_type": "markdown",
   "metadata": {},
   "source": [
    "## Koalas: Making an Easy Transition from Pandas to Apache Spark\n",
    "\n",
    "What's Koalas?\n",
    "- Announced April 24, 2019\n",
    "\n",
    "For pandas users\n",
    "- Scale out the Pandas code using Koalas\n",
    "- Male learning PySpark much easier\n",
    "\n",
    "For PySpark users\n",
    "- More productive by Pandas-like functions\n",
    "\n",
    "APIs for Spark users:\n",
    "- to_koalas(), to_spark()\n",
    "- DataFrame.spark.cache(), ks.sql()"
   ]
  },
  {
   "cell_type": "markdown",
   "metadata": {},
   "source": [
    "### A short example"
   ]
  },
  {
   "cell_type": "code",
   "execution_count": null,
   "metadata": {
    "jupyter": {
     "source_hidden": true
    }
   },
   "outputs": [],
   "source": [
    "import databricks.koalas as ks\n",
    "\n",
    "kdf = ks.read_csv(\"caminho\")\n",
    "\n",
    "kdf.columns = ['x', 'y', 'z']\n",
    "kdf['x2'] = kdf.x * kdf.x\n",
    "\n",
    "kdf"
   ]
  },
  {
   "cell_type": "markdown",
   "metadata": {},
   "source": [
    "### Convert from/to Pandas DataFrame"
   ]
  },
  {
   "cell_type": "code",
   "execution_count": null,
   "metadata": {},
   "outputs": [],
   "source": [
    "import pandas as pd\n",
    "\n",
    "pdf = pd.DataFrame([[1, 10.0, 'a'], \n",
    "                    [2, 20.0, 'b'],\n",
    "                    [3, 30.0, 'c']], columns=['x', 'y', 'z'])"
   ]
  },
  {
   "cell_type": "code",
   "execution_count": null,
   "metadata": {},
   "outputs": [],
   "source": [
    "kdf = ks.from_pandas(pdf)\n",
    "kdf"
   ]
  },
  {
   "cell_type": "code",
   "execution_count": null,
   "metadata": {},
   "outputs": [],
   "source": [
    "kdf.to_pandas()"
   ]
  },
  {
   "cell_type": "markdown",
   "metadata": {},
   "source": [
    "### Convert from/to Spark DataFrame"
   ]
  },
  {
   "cell_type": "code",
   "execution_count": null,
   "metadata": {},
   "outputs": [],
   "source": [
    "sdf = spark.createDataFrame([[1, 10.0, 'a'], \n",
    "                    [2, 20.0, 'b'],\n",
    "                    [3, 30.0, 'c']], schema=['x', 'y', 'z'])"
   ]
  },
  {
   "cell_type": "code",
   "execution_count": null,
   "metadata": {},
   "outputs": [],
   "source": [
    "kdf = sdf.to_koalas()\n",
    "kdf.to_spark().show()"
   ]
  },
  {
   "cell_type": "markdown",
   "metadata": {},
   "source": [
    "### Specify index columns"
   ]
  },
  {
   "cell_type": "code",
   "execution_count": null,
   "metadata": {},
   "outputs": [],
   "source": [
    "sdf.to_koalas(index_col='x') # the column turns index"
   ]
  },
  {
   "cell_type": "code",
   "execution_count": null,
   "metadata": {},
   "outputs": [],
   "source": [
    "kdf.to_spark(index_col='x').show() # to preserve the index"
   ]
  },
  {
   "cell_type": "markdown",
   "metadata": {},
   "source": [
    "## Transform and apply functions\n",
    "`transform` and `apply`"
   ]
  },
  {
   "cell_type": "code",
   "execution_count": null,
   "metadata": {},
   "outputs": [],
   "source": [
    "kdf = ks.DataFrame({'a': [1, 2, 3],\n",
    "                   'b': [4, 5, 6]})\n",
    "\n",
    "def pandas_plus(item):\n",
    "    return item + 1 # should always return the same length as input\n",
    "\n",
    "kdf.transform(pandas_plus)"
   ]
  },
  {
   "cell_type": "code",
   "execution_count": null,
   "metadata": {},
   "outputs": [],
   "source": [
    "kdf = ks.DataFrame({'a': [1, 2, 3],\n",
    "                   'b': [4, 5, 6]})\n",
    "\n",
    "def pandas_plus(item):\n",
    "    return item[item % 2 == 1] # allows an arbitrary length\n",
    "\n",
    "kdf.apply(pandas_plus)"
   ]
  },
  {
   "cell_type": "markdown",
   "metadata": {},
   "source": [
    "`transform_batch` and `apply_batch`"
   ]
  },
  {
   "cell_type": "code",
   "execution_count": null,
   "metadata": {},
   "outputs": [],
   "source": [
    "kdf = ks.DataFrame({'a': [1, 2, 3],\n",
    "                   'b': [4, 5, 6]})\n",
    "\n",
    "def pandas_plus(item):\n",
    "    return item + 1 # should always return the same length as input\n",
    "\n",
    "kdf.transform_batch(pandas_plus)"
   ]
  },
  {
   "cell_type": "code",
   "execution_count": null,
   "metadata": {},
   "outputs": [],
   "source": [
    "kdf = ks.DataFrame({'a': [1, 2, 3],\n",
    "                   'b': [4, 5, 6]})\n",
    "\n",
    "def pandas_plus(item):\n",
    "    return item[item.a > 1] # allows an arbitrary length\n",
    "\n",
    "kdf.apply_batch(pandas_plus)"
   ]
  },
  {
   "cell_type": "markdown",
   "metadata": {},
   "source": [
    "### Spark Schema and Data Type"
   ]
  },
  {
   "cell_type": "code",
   "execution_count": null,
   "metadata": {},
   "outputs": [],
   "source": [
    "# Get the spark schema without the index columns\n",
    "kdf.spark.schema().simpleString()\n",
    "\n",
    "# Get the spark schema including the index columns\n",
    "kdf.spark.schema(index_col='index'.simpleString())"
   ]
  },
  {
   "cell_type": "code",
   "execution_count": null,
   "metadata": {},
   "outputs": [],
   "source": [
    "kdf.spark.print_schema()\n",
    "\n",
    "kdf.spark.print_schema(index_col='index')"
   ]
  },
  {
   "cell_type": "code",
   "execution_count": null,
   "metadata": {},
   "outputs": [],
   "source": [
    "kdf['A'].spark.data_type"
   ]
  },
  {
   "cell_type": "markdown",
   "metadata": {},
   "source": [
    "### DataFrame.spark.apply"
   ]
  },
  {
   "cell_type": "code",
   "execution_count": null,
   "metadata": {},
   "outputs": [],
   "source": [
    "# 'sdf' is a Spark Dataframe\n",
    "\n",
    "kdf.spark.apply(lambda sdf: sdf.select(sdf['A'] * sdf['b']), \n",
    "                index_col='index').head()"
   ]
  },
  {
   "cell_type": "markdown",
   "metadata": {},
   "source": [
    "### Series.spark.transform"
   ]
  },
  {
   "cell_type": "code",
   "execution_count": null,
   "metadata": {},
   "outputs": [],
   "source": [
    "# 'scol' is a Spark column\n",
    "kdf.spark.transform(lambda scol: scol.cast('int')).head()"
   ]
  },
  {
   "cell_type": "markdown",
   "metadata": {},
   "source": [
    "### DataFrame.spark.explain()"
   ]
  },
  {
   "cell_type": "code",
   "execution_count": null,
   "metadata": {},
   "outputs": [],
   "source": [
    "(kdf + 1).spark.explain()"
   ]
  }
 ],
 "metadata": {
  "kernelspec": {
   "display_name": "Python 3",
   "language": "python",
   "name": "python3"
  },
  "language_info": {
   "codemirror_mode": {
    "name": "ipython",
    "version": 3
   },
   "file_extension": ".py",
   "mimetype": "text/x-python",
   "name": "python",
   "nbconvert_exporter": "python",
   "pygments_lexer": "ipython3",
   "version": "3.8.3"
  }
 },
 "nbformat": 4,
 "nbformat_minor": 4
}
